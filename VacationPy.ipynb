{
 "cells": [
  {
   "cell_type": "markdown",
   "metadata": {},
   "source": [
    "# VacationPy"
   ]
  },
  {
   "cell_type": "code",
   "execution_count": 2,
   "metadata": {},
   "outputs": [],
   "source": [
    "# Dependencies and Setup\n",
    "import matplotlib.pyplot as plt\n",
    "import pandas as pd\n",
    "import numpy as np\n",
    "import requests\n",
    "import gmaps\n",
    "import os\n",
    "\n",
    "# Import API key\n",
    "from dotenv import load_dotenv\n",
    "import os\n",
    "#adds variable from environments - need to pip install python-dotenv\n",
    "load_dotenv()\n",
    "\n",
    "###\n",
    "\n",
    "# Establish Key Variables\n",
    "g_key = os.environ.get(\"g_key\")  # Comment out this line and replace value of g_key with a valid API key"
   ]
  },
  {
   "cell_type": "markdown",
   "metadata": {},
   "source": [
    "### Store WeatherPy results into DataFrame\n",
    "* Load the csv exported from WeatherPy to a DataFrame"
   ]
  },
  {
   "cell_type": "code",
   "execution_count": 3,
   "metadata": {},
   "outputs": [
    {
     "output_type": "execute_result",
     "data": {
      "text/plain": [
       "            city    lat     lng  max_temp  humidity  cloudiness  wind_speed  \\\n",
       "0  Srednekolymsk  67.45  153.68     12.61        91          21        5.23   \n",
       "1     Montevideo -34.83  -56.17     60.39        67          36       17.22   \n",
       "2           Hilo  19.73 -155.09     79.99        51           1        3.36   \n",
       "3         Ixtapa  20.70 -105.20     88.90        79          20       11.41   \n",
       "4     Pascagoula  30.37  -88.56     86.65        52          75       10.29   \n",
       "\n",
       "  country        date  \n",
       "0      RU  1603313661  \n",
       "1      UY  1603313817  \n",
       "2      US  1603313870  \n",
       "3      MX  1603313353  \n",
       "4      US  1603313872  "
      ],
      "text/html": "<div>\n<style scoped>\n    .dataframe tbody tr th:only-of-type {\n        vertical-align: middle;\n    }\n\n    .dataframe tbody tr th {\n        vertical-align: top;\n    }\n\n    .dataframe thead th {\n        text-align: right;\n    }\n</style>\n<table border=\"1\" class=\"dataframe\">\n  <thead>\n    <tr style=\"text-align: right;\">\n      <th></th>\n      <th>city</th>\n      <th>lat</th>\n      <th>lng</th>\n      <th>max_temp</th>\n      <th>humidity</th>\n      <th>cloudiness</th>\n      <th>wind_speed</th>\n      <th>country</th>\n      <th>date</th>\n    </tr>\n  </thead>\n  <tbody>\n    <tr>\n      <th>0</th>\n      <td>Srednekolymsk</td>\n      <td>67.45</td>\n      <td>153.68</td>\n      <td>12.61</td>\n      <td>91</td>\n      <td>21</td>\n      <td>5.23</td>\n      <td>RU</td>\n      <td>1603313661</td>\n    </tr>\n    <tr>\n      <th>1</th>\n      <td>Montevideo</td>\n      <td>-34.83</td>\n      <td>-56.17</td>\n      <td>60.39</td>\n      <td>67</td>\n      <td>36</td>\n      <td>17.22</td>\n      <td>UY</td>\n      <td>1603313817</td>\n    </tr>\n    <tr>\n      <th>2</th>\n      <td>Hilo</td>\n      <td>19.73</td>\n      <td>-155.09</td>\n      <td>79.99</td>\n      <td>51</td>\n      <td>1</td>\n      <td>3.36</td>\n      <td>US</td>\n      <td>1603313870</td>\n    </tr>\n    <tr>\n      <th>3</th>\n      <td>Ixtapa</td>\n      <td>20.70</td>\n      <td>-105.20</td>\n      <td>88.90</td>\n      <td>79</td>\n      <td>20</td>\n      <td>11.41</td>\n      <td>MX</td>\n      <td>1603313353</td>\n    </tr>\n    <tr>\n      <th>4</th>\n      <td>Pascagoula</td>\n      <td>30.37</td>\n      <td>-88.56</td>\n      <td>86.65</td>\n      <td>52</td>\n      <td>75</td>\n      <td>10.29</td>\n      <td>US</td>\n      <td>1603313872</td>\n    </tr>\n  </tbody>\n</table>\n</div>"
     },
     "metadata": {},
     "execution_count": 3
    }
   ],
   "source": [
    "#imports CSV from WeatherPy output\n",
    "inputFile = \"assets/data/cities.csv\"\n",
    "ReadFile = pd.read_csv(inputFile)\n",
    "#stores file into dataframe\n",
    "df = pd.DataFrame(ReadFile)\n",
    "#removes column added by csv input\n",
    "del df[\"Unnamed: 0\"]\n",
    "df.head()"
   ]
  },
  {
   "cell_type": "markdown",
   "metadata": {},
   "source": [
    "### Humidity Heatmap\n",
    "* Configure gmaps.\n",
    "* Use the Lat and Lng as locations and Humidity as the weight.\n",
    "* Add Heatmap layer to map."
   ]
  },
  {
   "cell_type": "code",
   "execution_count": 4,
   "metadata": {},
   "outputs": [
    {
     "output_type": "display_data",
     "data": {
      "text/plain": "Figure(layout=FigureLayout(height='420px'))",
      "application/vnd.jupyter.widget-view+json": {
       "version_major": 2,
       "version_minor": 0,
       "model_id": "c45b3c2f7f424a969136949e3836cde5"
      }
     },
     "metadata": {}
    }
   ],
   "source": [
    "#configures gmaps and sets up api key\n",
    "gmaps.configure(api_key=g_key)\n",
    "#establishes figure to add layers to\n",
    "fig = gmaps.figure()\n",
    "#pulls location data from dataframe\n",
    "locations = df[[\"lat\",\"lng\"]]\n",
    "#pulls humidity data from dataframe\n",
    "weightHumidity = df[\"humidity\"]\n",
    "#creates heatmap layer with prior input\n",
    "heatMap=gmaps.heatmap_layer(locations, weights=weightHumidity,dissipating=False, max_intensity=df.humidity.max(),point_radius=5)\n",
    "#plots heatlayer on map\n",
    "fig.add_layer(heatMap)\n",
    "#shows map\n",
    "fig"
   ]
  },
  {
   "cell_type": "markdown",
   "metadata": {},
   "source": [
    "### Create new DataFrame fitting weather criteria\n",
    "* Narrow down the cities to fit weather conditions.\n",
    "* Drop any rows will null values."
   ]
  },
  {
   "cell_type": "code",
   "execution_count": 5,
   "metadata": {},
   "outputs": [],
   "source": [
    "#selects an ideal sample of locations with clouds and wind, but still not freezing - I want to camp in a storm\n",
    "ideal_df = df.loc[(df.max_temp < 85) & (df.max_temp > 45) & (df.wind_speed > 20) & (df.cloudiness > 50)]"
   ]
  },
  {
   "cell_type": "markdown",
   "metadata": {},
   "source": [
    "### Hotel Map\n",
    "* Add a \"Hotel Name\" column to the DataFrame.\n",
    "* Set parameters to search for hotels with 5000 meters.\n",
    "* Hit the Google Places API for each city's coordinates.\n",
    "* Store the first Hotel result into the DataFrame.\n",
    "* Plot markers on top of the heatmap."
   ]
  },
  {
   "cell_type": "code",
   "execution_count": 6,
   "metadata": {},
   "outputs": [],
   "source": [
    "#set new dataframe equal to prior with a few alterations for the info_box_template code below\n",
    "hotel_df = ideal_df\n",
    "hotel_df = hotel_df.rename(columns = {\"city\":\"City\",\"country\":\"Country\"})"
   ]
  },
  {
   "cell_type": "code",
   "execution_count": 7,
   "metadata": {
    "tags": []
   },
   "outputs": [],
   "source": [
    "# find the closest hotel near each city\n",
    "#initialize google url\n",
    "google_url = \"https://maps.googleapis.com/maps/api/place/nearbysearch/json\"\n",
    "#list will hold dataframe values\n",
    "hotels = []\n",
    "#loops through all rows and searches coordinates through api to find hotel nearby\n",
    "for index, row in hotel_df.iterrows():\n",
    "        #setting search parameters and api_key\n",
    "    params= {\n",
    "    \"keyword\":\"hotel\",\n",
    "    \"radius\":5000,\n",
    "    \"key\":g_key,\n",
    "    \"types\":\"lodging\"\n",
    "    }\n",
    "    #merge coordinates into string for url to accept\n",
    "    params[\"location\"] = str(row[\"lat\"]) + \", \" + str(row[\"lng\"])\n",
    "    #get json file from URL\n",
    "    data = requests.get(google_url,params=params).json()\n",
    "    try:\n",
    "        #if there is data, add it to the hotel list\n",
    "        hotels.append(data[\"results\"][0][\"name\"])\n",
    "    except:\n",
    "        #if error, add blank space, alert user, and move on\n",
    "        hotels.append(\"\")\n",
    "        print(\"We're sorry, there are no hotels in a 5000 meter radius of \" + row[\"City\"])\n",
    "#puts data into last series of dataframe and prints\n",
    "hotel_df[\"Hotel Name\"] = hotels"
   ]
  },
  {
   "cell_type": "code",
   "execution_count": 8,
   "metadata": {},
   "outputs": [],
   "source": [
    "# Using the template add the hotel marks to the heatmap\n",
    "info_box_template = \"\"\"\n",
    "<dl>\n",
    "<dt>Name</dt><dd>{Hotel Name}</dd>\n",
    "<dt>City</dt><dd>{City}</dd>\n",
    "<dt>Country</dt><dd>{Country}</dd>\n",
    "</dl>\n",
    "\"\"\"\n",
    "# Store the DataFrame Row\n",
    "hotel_info = [info_box_template.format(**row) for index, row in hotel_df.iterrows()]\n",
    "locations = hotel_df[[\"lat\", \"lng\"]]"
   ]
  },
  {
   "cell_type": "code",
   "execution_count": 9,
   "metadata": {},
   "outputs": [
    {
     "output_type": "display_data",
     "data": {
      "text/plain": "Figure(layout=FigureLayout(height='420px'))",
      "application/vnd.jupyter.widget-view+json": {
       "version_major": 2,
       "version_minor": 0,
       "model_id": "20a27f5cc44b406e8dc928751e67b428"
      }
     },
     "metadata": {}
    }
   ],
   "source": [
    "#establishes figure to add layers to\n",
    "fig2 = gmaps.figure()\n",
    "#adds markers for the lat/long we searched\n",
    "markerMap = gmaps.marker_layer(locations)\n",
    "#adds layer to figure\n",
    "fig2.add_layer(markerMap)\n",
    "# Creates layer to show name, city, and country of locations when hovering. Set formatting to blue/yellow\n",
    "info_layer = gmaps.symbol_layer(\n",
    "    locations, fill_color=\"yellow\",\n",
    "    stroke_color='blue', scale=5,\n",
    "    info_box_content=hotel_info\n",
    ")\n",
    "#adds last layer to figure\n",
    "fig2.add_layer(info_layer)\n",
    "#shows figure\n",
    "fig2"
   ]
  }
 ],
 "metadata": {
  "kernelspec": {
   "name": "Python 3.7.6 64-bit ('base': conda)",
   "display_name": "Python 3.7.6 64-bit ('base': conda)",
   "metadata": {
    "interpreter": {
     "hash": "623e1203b39b5d28cf65156937d8a43e49d50cc902bd0e632f310aae924da5a1"
    }
   }
  },
  "language_info": {
   "codemirror_mode": {
    "name": "ipython",
    "version": 3
   },
   "file_extension": ".py",
   "mimetype": "text/x-python",
   "name": "python",
   "nbconvert_exporter": "python",
   "pygments_lexer": "ipython3",
   "version": "3.7.6-final"
  },
  "latex_envs": {
   "LaTeX_envs_menu_present": true,
   "autoclose": false,
   "autocomplete": true,
   "bibliofile": "biblio.bib",
   "cite_by": "apalike",
   "current_citInitial": 1,
   "eqLabelWithNumbers": true,
   "eqNumInitial": 1,
   "hotkeys": {
    "equation": "Ctrl-E",
    "itemize": "Ctrl-I"
   },
   "labels_anchors": false,
   "latex_user_defs": false,
   "report_style_numbering": false,
   "user_envs_cfg": false
  }
 },
 "nbformat": 4,
 "nbformat_minor": 2
}